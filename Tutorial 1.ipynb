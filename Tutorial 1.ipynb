{
 "cells": [
  {
   "cell_type": "markdown",
   "metadata": {},
   "source": [
    "# Question 1:\n",
    "\n",
    "Use the mole balance to derive an equation analogous to the CSTR mole balance derived previously for a fluidized CSTR containing catalyst particles in terms of the catalyst weight, W, and other appropriate terms."
   ]
  },
  {
   "cell_type": "markdown",
   "metadata": {},
   "source": [
    "# Question 2:\n",
    "We are going to consider the cell as a reactor. The nutrient corn steep liquor enters the cell of the microorganism Penicillium chrysogenum and is decomposed to form such products as amino acids, RNA, and DNA. Write an unsteady mass balance on (a) the corn steep liquor, (b) RNA, and (c) penicillin. Assume the cell is well mixed and that RNA remains inside the cell.\n",
    "\n",
    "<img src=\"Penicillium.jpg\" width=\"300px\">"
   ]
  },
  {
   "cell_type": "markdown",
   "metadata": {},
   "source": [
    "# Question 3:\n",
    "What is wrong with this solution? \n",
    "\n",
    "The irreversible liquid phase second order reaction:\n",
    "\n",
    "$$ 2A\\xrightarrow{k_1} B \\:\\:\\: k_1=0.03\\:dm^3/(mol.s)$$\n",
    "\n",
    "is carried out in a CSTR. The entering concentration of A, $C_{A0}$, is 2 molar. and the exit concentration of A, $C_A$ is\n",
    "0.1 molar. The volumetric flow rate, $υ_o$, is constant at 3 dm3/s. What is the corresponding reactor volume?\n",
    "\n",
    "*Solution:*\n",
    "\n",
    "1. Mole balance:\n",
    "$$V = \\frac{F_{A0}-F_A}{-r_A}$$\n",
    "\n",
    "2. Rate law (second order)\n",
    "$$ -r_A = kC_A^2$$\n",
    "\n",
    "3. Combine\n",
    "$$ V = \\frac{F_{A0}-F_A}{kC_A^2}$$\n",
    "\n",
    "4. \n",
    "$$ F_{A0} = υ_o C_{A0}=3 \\frac{dm^3}{s}.\\frac{2\\:molA}{dm^3}=\\frac{6 mol\\:A}{dm^3}$$\n",
    "\n",
    "5. \n",
    "$$ F_{A} = υ_o C_{A}=3 \\frac{dm^3}{s}.\\frac{0.1\\:molA}{dm^3}=\\frac{0.3 mol\\:A}{dm^3}$$\n",
    "\n",
    "6. \n",
    "$$ V = \\frac{(6-0.3)\\frac{mol}{s}}{\\left(0.03\\frac{dm^3}{mol.s}\\right) \\left(2\\frac{mol}{dm^3}\\right)}=47.5 dm^3$$\n",
    "\n",
    "\n",
    "\n"
   ]
  },
  {
   "cell_type": "markdown",
   "metadata": {},
   "source": [
    "# Question 4:\n",
    "\n",
    "This problem should be solved using Python. You can create a temporary notebook by accessing tmpnb.org from your cellphone, tablet or laptop. You can then programme the equations from scratch. What could work is to save a template code on your phone for differential equations and algebraic equation solutions. \n"
   ]
  },
  {
   "cell_type": "markdown",
   "metadata": {},
   "source": [
    "There are initially 500 rabbits (x) and 200 foxes (y) on Farmer Oat’s property. Use Polymath or MATLAB to plot the concentration of foxes and rabbits as a function of time for a period of up to 500 days. The predator–prey relationships are given by the following set of coupled ordinary differential equations:\n",
    "$$ \\frac{dx}{dt} = k_1x-k_2xy$$\n",
    "$$ \\frac{dy}{dt} = k_3 xy-k_4 y$$\n",
    "\n",
    "Constant for growth of rabbits $k_1 = 0.02\\:day^{–1}$ \n",
    "\n",
    "Constant for death of rabbits $k_2 = 0.00004/(day × no. \\:of \\:foxes)$ \n",
    "\n",
    "Constant for growth of foxes after eating rabbits $k_3 = 0.0004/(day × no.\\:of \\:rabbits)$ \n",
    "\n",
    "Constant for death of foxes $k_4 = 0.04\\:day^{–1}$"
   ]
  },
  {
   "cell_type": "markdown",
   "metadata": {},
   "source": [
    "a) What do your results look like for the case of $k_3 = 0.00004/(day × no.\\:of \\:rabbits)$ and $t_{final} = 800\\:days$? Also plot the number of foxes versus the number of rabbits. Explain why the curves look the way they do."
   ]
  },
  {
   "cell_type": "markdown",
   "metadata": {},
   "source": [
    "# Question 5\n",
    "\n",
    "Let's solve a set of non-linear differential equations:\n",
    "$$x^3y-4y^2+3x=1$$\n",
    "$$6y^2-9xy=5$$\n",
    "\n",
    "initial guesses of x = 2, y = 2."
   ]
  },
  {
   "cell_type": "markdown",
   "metadata": {},
   "source": [
    "# Question 6\n",
    "\n",
    "a) A CSTR is known to follow the following kinetics:\n",
    "\n",
    "$$-r_A = \\frac{k_1C_A^{2.375}}{k_2-C_A^{1.725}}$$\n",
    "\n",
    "$$k_1 = 2.542\\:(units - L, hours, moles)$$\n",
    "$$k_2 = 1.375\\: (units - L, hours, moles)$$\n",
    "\n",
    "Determine the outlet concentration of a liquid phase CSTR with inlet concentration of A = 1.32 mol/L:, a total reactor volume of 500 L and a residence time in the reactor of 3 hours."
   ]
  },
  {
   "cell_type": "markdown",
   "metadata": {},
   "source": [
    "b) Determine how long the system in a) takes to reach steady state if it is assumed that the reactor fills instantly at time 0 and has the inlet concentration initially"
   ]
  }
 ],
 "metadata": {
  "kernelspec": {
   "display_name": "Python [Root]",
   "language": "python",
   "name": "Python [Root]"
  },
  "language_info": {
   "codemirror_mode": {
    "name": "ipython",
    "version": 3
   },
   "file_extension": ".py",
   "mimetype": "text/x-python",
   "name": "python",
   "nbconvert_exporter": "python",
   "pygments_lexer": "ipython3",
   "version": "3.5.2"
  }
 },
 "nbformat": 4,
 "nbformat_minor": 0
}
