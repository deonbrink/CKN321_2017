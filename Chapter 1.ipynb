{
 "cells": [
  {
   "cell_type": "markdown",
   "metadata": {},
   "source": [
    "# Introduction\n",
    "\n",
    "This notebook is meant to be used in conjunction with the prescribed textbook - Elements of Chemical Reaction Engineering (Volume 4) _by_ H. Scott Fogler.  This book will also be used in the subsequent reactor design module (CRO410).\n",
    "\n",
    "The notebook provides the most basic background coupled with the programming used to solve various interesting problems from the textbook."
   ]
  },
  {
   "cell_type": "markdown",
   "metadata": {},
   "source": [
    "# Fogler Chapter 1\n",
    "\n",
    "## 1.Mole Balances\n",
    "\n",
    "### 1.1. Rate of reaction $-r_A$\n",
    "\n",
    "This section focuses on the basic definition of reaction rate as:\n",
    "\n",
    "How _fast_ __moles__ of A $\\to$ __moles__ of B\n",
    "\n",
    "<img src=\"measuring-rates-of-reaction-2-638.jpg\" width=\"500px\">\n",
    "\n",
    "\n",
    "A chemical reaction is defined as the process when a species converts to another species... note that isomers are considered different species because their properties are different.\n",
    "\n",
    "#### Isomers\n",
    "<img src=\"Stereoisomers.jpg\" width=\"300px\">\n",
    "\n",
    "Remember that mass cannot be _created_ or _destroyed_ but can only be converted from _one form_ (chemical species) to _another_. This means that for some new species (__$P_i$__) to be produced, the ___same mass___ of other species (__$R_i$__) must first be consumed.\n",
    "\n",
    "<img src=\"Screen_shot_2011-02-14_at_7.34.01_PM.png\" width=\"600px\">\n",
    "\n",
    "\n",
    "\n"
   ]
  },
  {
   "cell_type": "markdown",
   "metadata": {},
   "source": [
    "#### Homogenous reactions\n",
    "\n",
    "Means there is only one phase (usually liquid/gas) present in the reactor\n",
    "\n",
    "_$-r_i$_ is defined (_per_ convention) on a volume basis __in this textbook__. This means that the units of reaction rate is defined as:\n",
    "$$ -r_i=\\frac{number\\: of\\: molecules}{unit\\:volume.time} $$\n",
    "\n",
    "<img src=\"phases1.gif\" width=\"300px\">\n"
   ]
  },
  {
   "cell_type": "markdown",
   "metadata": {},
   "source": [
    "#### Heterogeneous reactions\n",
    "\n",
    "When different phases are present, the reaction is usually defined with respect to catalyst properties.\n",
    "\n",
    "_$-r'_i$_ is defined (_per_ convention) on a catalyst mass basis __in this textbook__. \n",
    "\n",
    "$$ -r'_i=\\frac{number\\: of\\: molecules}{catalyst\\:mass.time} $$\n",
    "\n"
   ]
  },
  {
   "cell_type": "markdown",
   "metadata": {},
   "source": [
    "The reaction relationship between the reaction rates can be expressed as:\n",
    "$$ -r_A=C_{cat}(-r'_A)$$\n",
    "$$ \\frac{number\\: of\\: molecules}{unit\\:volume.time} = \\frac{catalyst\\:mass}{unit\\: volume}\\frac{number\\: of\\: molecules}{catalyst\\:mass.time}$$"
   ]
  },
  {
   "cell_type": "markdown",
   "metadata": {},
   "source": [
    "__CRITICALLY IMPORTANT, I.E. YOU MUST UNDERSTAND THIS!!!__\n",
    "\n",
    "The rate equation (_$r_i$_) is a function of the reactants and reaction conditions (e.g. species concentrations, temperature, pressure, catalyst type) and independant of reactor type (e.g. batch/continuous).\n",
    "\n"
   ]
  },
  {
   "cell_type": "markdown",
   "metadata": {},
   "source": [
    "#### Chemical reaction \"law\"\n",
    "\n",
    "This is and **algebraic** equation which relates the reagent properties (type/concentration) and system conditions (temperature) to the reaction rate:\n",
    " ##### Examples\n",
    " \n",
    " $$ A\\to products $$\n",
    " \n",
    " $$-r_A = kC_A$$\n",
    " \n",
    " $$ -r_A = kC_A^2 $$\n",
    " \n",
    " $$ -r_A = \\frac{k_1 C_A}{1+k_2C_A} $$\n",
    " \n",
    " "
   ]
  },
  {
   "cell_type": "markdown",
   "metadata": {},
   "source": [
    "The rate law is determined experimentally\n",
    "\n",
    "**NOTE: $r_i$ is the rate of *FORMATION* of species i, therefore $-r_i$ indicates the rate of *CONSUMPTION/DISAPPEARANCE* of species i**\n"
   ]
  },
  {
   "cell_type": "markdown",
   "metadata": {},
   "source": [
    "### 1.2. The General Mole Balance Equation"
   ]
  },
  {
   "cell_type": "markdown",
   "metadata": {},
   "source": [
    "Start by defining the system boudary\n",
    "\n",
    "<img src=\"2.jpg\" width=\"700px\">\n"
   ]
  },
  {
   "cell_type": "markdown",
   "metadata": {},
   "source": [
    "A mole balance on species j at time t:\n",
    "\n",
    "<img src=\"01equ03a_alt.jpg\" width=\"700px\">"
   ]
  },
  {
   "cell_type": "markdown",
   "metadata": {},
   "source": [
    "Everything in this equation is straightforward CIR 1.., except the **GENERATION** term $G_j$:\n",
    "\n",
    "Now come the **BIG** assumption:\n",
    "\n",
    "<blockquote>\n",
    "\n",
    "    <p><i>\"If all the system variables (e.g. temperature, catalystic activity, concentration of the chemical species) are spacially uniform throughout the system volume, the rate of generation of species j, $G_j$ is just the product of the reaction colume V, and the rate of formation of species j, $r_j$\"</i></p>\n",
    "\n",
    "</blockquote>\n",
    "\n"
   ]
  },
  {
   "cell_type": "markdown",
   "metadata": {},
   "source": [
    "This means that if the assumption is **NOT TRUE**, you have to divide the control volume until the assumption holds, i.e. the reaction rate is constant throughout a specific volume $V_i$:\n",
    "<img src=\"01fig04_alt.jpg\" width=\"500px\">"
   ]
  },
  {
   "cell_type": "markdown",
   "metadata": {},
   "source": [
    "In this reaction volume the following equation holds:\n",
    "$$ \\Delta G_{ji}=r_{ji}\\Delta V_i$$"
   ]
  },
  {
   "cell_type": "markdown",
   "metadata": {},
   "source": [
    "The total rate of generation:\n",
    "$$ G_j = \\sum^M_{i=1}\\Delta G_{ji}=\\sum^M_{i=1}r_{ji}\\Delta V_i$$"
   ]
  },
  {
   "cell_type": "markdown",
   "metadata": {},
   "source": [
    "Now this looks a lot like CIO?? and therefore if:\n",
    "$$\\lim_{M \\to \\infty}$$\n",
    "and\n",
    "$$\\lim_{\\Delta V\\to0}$$\n",
    "then\n",
    "$$G_j = \\int^V r_j\\:d V $$"
   ]
  },
  {
   "cell_type": "markdown",
   "metadata": {},
   "source": [
    "This finally yields the **GENERAL MOLE BALANCE**:\n",
    "$$F_{j0}-F_j+\\int^V r_j\\:d V=\\frac{dN_j}{dt}$$"
   ]
  },
  {
   "cell_type": "markdown",
   "metadata": {},
   "source": [
    "\n",
    "From the general mole balance the design equations for the various industrial reactor types can be developed: batch, semi-batch, continuous-flow. This can eventually lead to an optimised design of batch (required reaction time) or continuous-flow (required volume) reactors to yield a desired product quality/quantity."
   ]
  },
  {
   "cell_type": "markdown",
   "metadata": {},
   "source": [
    "### 1.3. Batch Reactors"
   ]
  },
  {
   "cell_type": "markdown",
   "metadata": {},
   "source": [
    "Batch reactors:\n",
    "- Small scale operation\n",
    "- Testing new processes\n",
    "- Expensive products\n",
    "- Processes that are difficult to run continuously (biological systems - contamination)\n",
    "\n",
    "<img src=\"batch-reactor-26-638.jpg\" width=\"500px\">\n"
   ]
  },
  {
   "cell_type": "markdown",
   "metadata": {},
   "source": [
    "Advantage:\n",
    "- High conversions (long operational times)\n",
    "\n",
    "Disadvantages\n",
    "- High lablour costs\n",
    "- Product variablility between batches\n",
    "- Difficulty of large scale production"
   ]
  },
  {
   "cell_type": "markdown",
   "metadata": {},
   "source": [
    "From general mole balance:\n",
    "$$F_{j0}-F_j+\\int^V r_j\\:d V=\\frac{dN_j}{dt}$$\n",
    "\n",
    "Batch reactor $F_{j0}$ and $F_j$ = 0\n",
    "$$\\therefore$$\n",
    "\n",
    "$$\\frac{dN_j}{dt} = \\int^V r_j\\:d V$$\n",
    "\n",
    "If the reaction mixture is **PERFECTLY MIXED**:\n",
    "\n",
    "$$ \\frac{dN_j}{dt} = r_jv$$"
   ]
  },
  {
   "cell_type": "markdown",
   "metadata": {},
   "source": [
    "### 1.4 Continuous-Flow Reactors\n",
    "\n",
    "Continous flow reactors:\n",
    "- Almost always steady state\n",
    "\n",
    "Three main types (CKN 321)\n",
    "- Continuously stirred tank reactor (CSTR)\n",
    "- Plug flow reactor (PFR)\n",
    "- Packed bed reactor (PBR)"
   ]
  },
  {
   "cell_type": "markdown",
   "metadata": {},
   "source": [
    "#### 1.4.1 CSTR\n",
    "\n",
    "- Continously stirred tank reactor\n",
    "- Continously stirred vat\n",
    "- Backmix reactor\n",
    "\n",
    "Primarily liquid phase reactions.\n",
    "\n",
    "Normally operated at ***steady state***\n",
    "\n",
    "Assumed ***perfectly mixed***\n",
    "\n",
    "No time dependence of variables, i.e.:\n",
    "- temperature\n",
    "- concentration\n",
    "- reaction rate\n",
    "\n",
    "constant throughout the vessel.\n",
    "\n",
    "<img src=\"CSTR1.jpg\" width=\"500px\">"
   ]
  },
  {
   "cell_type": "markdown",
   "metadata": {},
   "source": [
    "From general mole balance:\n",
    "$$F_{j0}-F_j+\\int^V r_j\\:d V=\\frac{dN_j}{dt}$$\n",
    "\n",
    "No time dependence:\n",
    "$$\\frac{dN_j}{dt} = 0$$\n",
    "\n",
    "No variation in variables throught the volume:\n",
    "$$\\int^V r_j\\:d V = r_jV$$\n",
    "\n",
    "CSTR design equation:\n",
    "$$F_{j0}-F_j = -r_jV$$\n",
    "\n",
    "or\n",
    "\n",
    "$$ V = \\frac{F_{j0}-F_j}{-r_j}$$"
   ]
  },
  {
   "cell_type": "markdown",
   "metadata": {},
   "source": [
    "#### PFR\n",
    "\n",
    "- Cylindrical pipe\n",
    "- Steady-state\n",
    "- Mostly gas phase reactions\n",
    "\n",
    "<img src=\"PFR.jpg\" width=\"300px\">"
   ]
  },
  {
   "cell_type": "markdown",
   "metadata": {},
   "source": [
    " In the PFR reactants consumed along the length. Modelling we assume:\n",
    " - Concentration varies in the axial (length) of the reactor\n",
    "     - Consequently the reaction rate varies (except for zero-order reactions) along the length\n",
    " - No radial variation, i.e. properties constant in the radial direction:\n",
    " \n",
    " <img src=\"01fig09_alt.jpg\" width=\"700px\">"
   ]
  },
  {
   "cell_type": "markdown",
   "metadata": {},
   "source": [
    "From general mole balance:\n",
    "$$F_{j0}-F_j+\\int^V r_j\\:d V=\\frac{dN_j}{dt}$$\n",
    "\n",
    "No time dependence:\n",
    "$$\\frac{dN_j}{dt} = 0$$\n",
    "\n",
    "In this case there is a difference in the **generation term** ($G_j$) along the length of the reactor.\n",
    "\n",
    "To account for this variation we need to divide the reactor volume ($\\Delta V$) until we get to a volume with constant process conditions:\n",
    "\n",
    "<img src=\"01fig10.jpg\" width=\"500px\">"
   ]
  },
  {
   "cell_type": "markdown",
   "metadata": {},
   "source": [
    "The general mole balance now becomes:\n",
    "$$ F_j \\big\\vert_V-F_j\\big\\vert_{V+\\Delta V}+\\Delta G=0$$\n",
    "\n",
    "$$ F_j \\big\\vert_V-F_j\\big\\vert_{V+\\Delta V}+r_j\\Delta V=0$$\n",
    "\n",
    "Divide by $\\Delta V$:\n",
    "\n",
    "$$ \\left[\\frac{F_j\\big\\vert_{V+\\Delta V}-F_j \\big\\vert_V}{\\Delta V}\\right]=r_j$$\n",
    "\n",
    "Remember $\\Delta V$ is ***VERY, VERY SMALL!!!***\n",
    "\n",
    "$$\\lim_{\\Delta V\\to 0}$$\n",
    "\n",
    "$$\\therefore$$\n",
    "\n",
    "$$\\frac{dF_j}{dV}=r_j$$\n",
    "\n",
    "\n"
   ]
  },
  {
   "cell_type": "markdown",
   "metadata": {},
   "source": [
    "Let's say we want to determine the volume of reactor required to convert the reagent j from $F_{j0}$ to $F_j$:\n",
    "\n",
    "$$V = \\int_{F_{j0}}^{F_j} \\frac{dF_j}{r_j}$$\n",
    "\n",
    "Remember if j is a reagent then $F_j<F_{j0}$:\n",
    "\n",
    "$$V = \\int^{F_{j0}}_{F_j} \\frac{dF_j}{-r_j}$$\n",
    "\n",
    "The volume is equal to the area under the $\\frac{-1}{r_j}$ graph..."
   ]
  },
  {
   "cell_type": "markdown",
   "metadata": {},
   "source": [
    "#### 1.4.3. PBR\n",
    "\n",
    "- Fluid-solid reaction\n",
    "- Reaction takes place on catalyst surface\n",
    "- Based on catalyst mass, ***W***\n",
    "\n",
    "<img src=\"01fig13.jpg\" width=\"500px\">\n"
   ]
  },
  {
   "cell_type": "markdown",
   "metadata": {},
   "source": [
    "The reaction rate in this case is defined as:\n",
    "$$ -r'_j=\\frac{mol\\:j}{s.g\\:catalyst}$$\n",
    "\n",
    "The derivation of the design equation of the PBR \n",
    "- analogous to the PFR\n",
    "- replace volume (***V***) with mass of catalyst (***W***)\n",
    "    - this can be done if the catalyst is uniformly distributed througout the volume, i.e. a constant packing density ($\\rho_B$) $$ r_j = \\rho_B r'_j$$ "
   ]
  },
  {
   "cell_type": "markdown",
   "metadata": {},
   "source": [
    "<img src=\"01fig14_alt.jpg\" width=\"500px\">\n",
    "\n",
    "From general mole balance:\n",
    "$$F_{j0}-F_j+\\int^V r_j\\:d V=\\frac{dN_j}{dt}$$\n",
    "\n",
    "No time dependence:\n",
    "$$\\frac{dN_j}{dt} = 0$$\n",
    "\n",
    "$$ F_j \\big\\vert_W-F_j\\big\\vert_{W+\\Delta W}+r_j\\Delta W=0$$\n",
    "\n",
    "Divide by $\\Delta W$:\n",
    "\n",
    "$$ \\left[\\frac{F_j\\big\\vert_{W+\\Delta W}-F_j \\big\\vert_W}{\\Delta W}\\right]=r_j$$\n",
    "\n",
    "$$\\lim_{\\Delta W\\to 0}$$\n",
    "\n",
    "$$\\therefore$$\n",
    "\n",
    "$$\\frac{dF_j}{dW}=r'_j$$"
   ]
  },
  {
   "cell_type": "markdown",
   "metadata": {},
   "source": [
    "$$W = \\int^{F_{j0}}_{F_j} \\frac{dF_j}{-r'_j}$$\n",
    "\n",
    "The catalyst mass is equal to the area under the $\\frac{-1}{r'_j}$ graph..."
   ]
  },
  {
   "cell_type": "markdown",
   "metadata": {},
   "source": [
    "### 1.5 Industrial reactors\n",
    "\n",
    "This section is for self-study. \n",
    "\n",
    "Note this section will also form part of the click-up online test."
   ]
  }
 ],
 "metadata": {
  "anaconda-cloud": {},
  "kernelspec": {
   "display_name": "Python [Root]",
   "language": "python",
   "name": "Python [Root]"
  },
  "language_info": {
   "codemirror_mode": {
    "name": "ipython",
    "version": 3
   },
   "file_extension": ".py",
   "mimetype": "text/x-python",
   "name": "python",
   "nbconvert_exporter": "python",
   "pygments_lexer": "ipython3",
   "version": "3.5.2"
  }
 },
 "nbformat": 4,
 "nbformat_minor": 0
}
